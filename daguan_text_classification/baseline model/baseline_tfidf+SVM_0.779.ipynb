{
 "cells": [
  {
   "cell_type": "markdown",
   "metadata": {},
   "source": [
    "》train_set.csv：此数据集用于训练模型，每一行对应一篇文章。文章分别在“字”和“词”的级别上做了脱敏处理。共有四列：\n",
    "第一列是文章的索引(id)，第二列是文章正文在“字”级别上的表示，即字符相隔正文(article)；第三列是在“词”级别上的表示，即词语相隔正文(word_seg)；第四列是这篇文章的标注(class)。\n",
    "注：每一个数字对应一个“字”，或“词”，或“标点符号”。“字”的编号与“词”的编号是独立的！\n",
    "\n",
    "》test_set.csv：此数据用于测试。数据格式同train_set.csv，但不包含class。\n",
    "注：test_set与train_test中文章id的编号是独立的。"
   ]
  },
  {
   "cell_type": "code",
   "execution_count": 1,
   "metadata": {},
   "outputs": [],
   "source": [
    "import pandas as pd, numpy as np\n",
    "from sklearn.linear_model import LogisticRegression\n",
    "from sklearn.feature_extraction.text import CountVectorizer, TfidfVectorizer\n",
    "import time\n"
   ]
  },
  {
   "cell_type": "code",
   "execution_count": 2,
   "metadata": {},
   "outputs": [],
   "source": [
    "\n",
    "train = pd.read_csv('C:/daguan_text_classification/new_data/train_set.csv')\n",
    "test = pd.read_csv('C:/daguan_text_classification/new_data/test_set.csv')\n",
    "test_id = pd.read_csv('C:/daguan_text_classification/new_data/test_set.csv')[[\"id\"]].copy()\n",
    "\n"
   ]
  },
  {
   "cell_type": "code",
   "execution_count": 3,
   "metadata": {},
   "outputs": [
    {
     "data": {
      "text/html": [
       "<div>\n",
       "<style scoped>\n",
       "    .dataframe tbody tr th:only-of-type {\n",
       "        vertical-align: middle;\n",
       "    }\n",
       "\n",
       "    .dataframe tbody tr th {\n",
       "        vertical-align: top;\n",
       "    }\n",
       "\n",
       "    .dataframe thead th {\n",
       "        text-align: right;\n",
       "    }\n",
       "</style>\n",
       "<table border=\"1\" class=\"dataframe\">\n",
       "  <thead>\n",
       "    <tr style=\"text-align: right;\">\n",
       "      <th></th>\n",
       "      <th>id</th>\n",
       "      <th>article</th>\n",
       "      <th>word_seg</th>\n",
       "      <th>class</th>\n",
       "    </tr>\n",
       "  </thead>\n",
       "  <tbody>\n",
       "    <tr>\n",
       "      <th>0</th>\n",
       "      <td>0</td>\n",
       "      <td>7368 1252069 365865 755561 1044285 129532 1053...</td>\n",
       "      <td>816903 597526 520477 1179558 1033823 758724 63...</td>\n",
       "      <td>14</td>\n",
       "    </tr>\n",
       "    <tr>\n",
       "      <th>1</th>\n",
       "      <td>1</td>\n",
       "      <td>581131 165432 7368 957317 1197553 570900 33659...</td>\n",
       "      <td>90540 816903 441039 816903 569138 816903 10343...</td>\n",
       "      <td>3</td>\n",
       "    </tr>\n",
       "    <tr>\n",
       "      <th>2</th>\n",
       "      <td>2</td>\n",
       "      <td>7368 87936 40494 490286 856005 641588 145611 1...</td>\n",
       "      <td>816903 1012629 957974 1033823 328210 947200 65...</td>\n",
       "      <td>12</td>\n",
       "    </tr>\n",
       "    <tr>\n",
       "      <th>3</th>\n",
       "      <td>3</td>\n",
       "      <td>299237 760651 299237 887082 159592 556634 7489...</td>\n",
       "      <td>563568 1239563 680125 780219 782805 1033823 19...</td>\n",
       "      <td>13</td>\n",
       "    </tr>\n",
       "    <tr>\n",
       "      <th>4</th>\n",
       "      <td>4</td>\n",
       "      <td>7368 7368 7368 865510 7368 396966 995243 37685...</td>\n",
       "      <td>816903 816903 816903 139132 816903 312320 1103...</td>\n",
       "      <td>12</td>\n",
       "    </tr>\n",
       "  </tbody>\n",
       "</table>\n",
       "</div>"
      ],
      "text/plain": [
       "   id                                            article  \\\n",
       "0   0  7368 1252069 365865 755561 1044285 129532 1053...   \n",
       "1   1  581131 165432 7368 957317 1197553 570900 33659...   \n",
       "2   2  7368 87936 40494 490286 856005 641588 145611 1...   \n",
       "3   3  299237 760651 299237 887082 159592 556634 7489...   \n",
       "4   4  7368 7368 7368 865510 7368 396966 995243 37685...   \n",
       "\n",
       "                                            word_seg  class  \n",
       "0  816903 597526 520477 1179558 1033823 758724 63...     14  \n",
       "1  90540 816903 441039 816903 569138 816903 10343...      3  \n",
       "2  816903 1012629 957974 1033823 328210 947200 65...     12  \n",
       "3  563568 1239563 680125 780219 782805 1033823 19...     13  \n",
       "4  816903 816903 816903 139132 816903 312320 1103...     12  "
      ]
     },
     "execution_count": 3,
     "metadata": {},
     "output_type": "execute_result"
    }
   ],
   "source": [
    "train.head()"
   ]
  },
  {
   "cell_type": "code",
   "execution_count": 4,
   "metadata": {},
   "outputs": [
    {
     "data": {
      "text/html": [
       "<div>\n",
       "<style scoped>\n",
       "    .dataframe tbody tr th:only-of-type {\n",
       "        vertical-align: middle;\n",
       "    }\n",
       "\n",
       "    .dataframe tbody tr th {\n",
       "        vertical-align: top;\n",
       "    }\n",
       "\n",
       "    .dataframe thead th {\n",
       "        text-align: right;\n",
       "    }\n",
       "</style>\n",
       "<table border=\"1\" class=\"dataframe\">\n",
       "  <thead>\n",
       "    <tr style=\"text-align: right;\">\n",
       "      <th></th>\n",
       "      <th>id</th>\n",
       "      <th>article</th>\n",
       "      <th>word_seg</th>\n",
       "    </tr>\n",
       "  </thead>\n",
       "  <tbody>\n",
       "    <tr>\n",
       "      <th>0</th>\n",
       "      <td>0</td>\n",
       "      <td>7368 146447 316564 42610 55736 297797 93042 53...</td>\n",
       "      <td>816903 565958 726082 764656 335008 75094 20282...</td>\n",
       "    </tr>\n",
       "    <tr>\n",
       "      <th>1</th>\n",
       "      <td>1</td>\n",
       "      <td>985531 473628 1044285 1121849 206763 462208 11...</td>\n",
       "      <td>729468 520477 529032 101368 335130 520477 1113...</td>\n",
       "    </tr>\n",
       "    <tr>\n",
       "      <th>2</th>\n",
       "      <td>2</td>\n",
       "      <td>7368 7368 7368 7368 7368 7368 7368 7368 7368 7...</td>\n",
       "      <td>816903 816903 816903 816903 816903 816903 8169...</td>\n",
       "    </tr>\n",
       "    <tr>\n",
       "      <th>3</th>\n",
       "      <td>3</td>\n",
       "      <td>529819 1226459 856005 1177293 663773 272235 93...</td>\n",
       "      <td>231664 1033823 524850 330478 507199 520477 618...</td>\n",
       "    </tr>\n",
       "    <tr>\n",
       "      <th>4</th>\n",
       "      <td>4</td>\n",
       "      <td>42610 1252069 1077049 955883 1125260 1044285 2...</td>\n",
       "      <td>545370 379223 162767 520477 1194630 1197475 11...</td>\n",
       "    </tr>\n",
       "  </tbody>\n",
       "</table>\n",
       "</div>"
      ],
      "text/plain": [
       "   id                                            article  \\\n",
       "0   0  7368 146447 316564 42610 55736 297797 93042 53...   \n",
       "1   1  985531 473628 1044285 1121849 206763 462208 11...   \n",
       "2   2  7368 7368 7368 7368 7368 7368 7368 7368 7368 7...   \n",
       "3   3  529819 1226459 856005 1177293 663773 272235 93...   \n",
       "4   4  42610 1252069 1077049 955883 1125260 1044285 2...   \n",
       "\n",
       "                                            word_seg  \n",
       "0  816903 565958 726082 764656 335008 75094 20282...  \n",
       "1  729468 520477 529032 101368 335130 520477 1113...  \n",
       "2  816903 816903 816903 816903 816903 816903 8169...  \n",
       "3  231664 1033823 524850 330478 507199 520477 618...  \n",
       "4  545370 379223 162767 520477 1194630 1197475 11...  "
      ]
     },
     "execution_count": 4,
     "metadata": {},
     "output_type": "execute_result"
    }
   ],
   "source": [
    "test.head()"
   ]
  },
  {
   "cell_type": "code",
   "execution_count": 5,
   "metadata": {},
   "outputs": [
    {
     "data": {
      "text/plain": [
       "(102277, 4)"
      ]
     },
     "execution_count": 5,
     "metadata": {},
     "output_type": "execute_result"
    }
   ],
   "source": [
    "train.shape"
   ]
  },
  {
   "cell_type": "code",
   "execution_count": 6,
   "metadata": {},
   "outputs": [
    {
     "data": {
      "text/plain": [
       "(102277, 3)"
      ]
     },
     "execution_count": 6,
     "metadata": {},
     "output_type": "execute_result"
    }
   ],
   "source": [
    "test.shape"
   ]
  },
  {
   "cell_type": "code",
   "execution_count": 7,
   "metadata": {},
   "outputs": [],
   "source": [
    "# import seaborn as sns\n",
    "# sns.countplot(train['class'])\n",
    "# print(' percentage:',len(np.argwhere(train['class'] == 5))/len(train))"
   ]
  },
  {
   "cell_type": "markdown",
   "metadata": {},
   "source": [
    "## Baseline1 -  TF-IDF + chi-square + SVM 0.77854"
   ]
  },
  {
   "cell_type": "code",
   "execution_count": 8,
   "metadata": {},
   "outputs": [],
   "source": [
    "t0 = time.time()\n",
    "import pandas as pd, numpy as np\n",
    "from sklearn.feature_extraction.text import CountVectorizer, TfidfVectorizer\n",
    "from sklearn import svm\n",
    "from sklearn.feature_selection.univariate_selection import SelectKBest, chi2, f_classif\n",
    "\n",
    "column = \"word_seg\"\n",
    "train = pd.read_csv('C:/daguan_text_classification/new_data/train_set.csv')\n",
    "test = pd.read_csv('C:/daguan_text_classification/new_data/test_set.csv')\n",
    "test_id = test[\"id\"].copy()\n",
    "vec = TfidfVectorizer(ngram_range=(1,2),min_df=3, max_df=0.9,use_idf=1,smooth_idf=1, sublinear_tf=1)\n",
    "trn_term_doc = vec.fit_transform(train[column])\n",
    "test_term_doc = vec.transform(test[column])\n",
    "\n"
   ]
  },
  {
   "cell_type": "code",
   "execution_count": 10,
   "metadata": {},
   "outputs": [
    {
     "name": "stdout",
     "output_type": "stream",
     "text": [
      "[LibLinear]804.3816695213318\n"
     ]
    }
   ],
   "source": [
    "\n",
    "# from sklearn.feature_selection.univariate_selection import SelectKBest, chi2, f_classif\n",
    "# fselect = SelectKBest(chi2 , k=2000000)\n",
    "# train_features = fselect.fit_transform(trn_term_doc, train[\"class\"])\n",
    "# test_features = fselect.transform(test_term_doc)\n",
    "\n",
    "\n",
    "fid0=open('baseline.csv','w')\n",
    "\n",
    "y=(train[\"class\"]-1).astype(int)\n",
    "lin_clf = svm.LinearSVC(C=0.95,verbose=4)\n",
    "lin_clf.fit(trn_term_doc,y)\n",
    "preds = lin_clf.predict(test_term_doc)\n",
    "i=0\n",
    "fid0.write(\"id,class\"+\"\\n\")\n",
    "for item in preds:\n",
    "    fid0.write(str(i)+\",\"+str(item+1)+\"\\n\")\n",
    "    i=i+1\n",
    "fid0.close()\n",
    "t1 = time.time()\n",
    "print(t1-t0)"
   ]
  },
  {
   "cell_type": "markdown",
   "metadata": {},
   "source": [
    "BaseLine2. "
   ]
  },
  {
   "cell_type": "code",
   "execution_count": 11,
   "metadata": {},
   "outputs": [],
   "source": [
    "column = \"word_seg\"\n",
    "vec = CountVectorizer(ngram_range=(1, 2), min_df=3, max_df=0.98, binary=True)\n",
    "vec.fit(train[column])\n",
    "train_feature_names = vec.get_feature_names()\n",
    "del vec\n",
    "\n",
    "\n",
    "vec1 = CountVectorizer(ngram_range=(1, 2), min_df=3, max_df=0.98,  binary=True)\n",
    "vec1.fit(test[column])\n",
    "test_features_names = vec1.get_feature_names()\n",
    "del vec1"
   ]
  },
  {
   "cell_type": "code",
   "execution_count": 12,
   "metadata": {},
   "outputs": [
    {
     "data": {
      "text/plain": [
       "3702540"
      ]
     },
     "execution_count": 12,
     "metadata": {},
     "output_type": "execute_result"
    }
   ],
   "source": [
    "valid_feature_name = list(set(train_feature_names+test_features_names))\n",
    "len(valid_feature_name)"
   ]
  },
  {
   "cell_type": "code",
   "execution_count": 13,
   "metadata": {},
   "outputs": [],
   "source": [
    "join_df = train[['word_seg','class']].groupby('class').agg(lambda ele:' '.join(ele))"
   ]
  },
  {
   "cell_type": "markdown",
   "metadata": {},
   "source": [
    "区别于直接拿每一个文档计算df，把每一个groupby之后再去算tf-i(class)f"
   ]
  },
  {
   "cell_type": "code",
   "execution_count": 22,
   "metadata": {},
   "outputs": [
    {
     "data": {
      "text/plain": [
       "TfidfVectorizer(analyzer='word', binary=False, decode_error='strict',\n",
       "        dtype=<class 'numpy.int64'>, encoding='utf-8', input='content',\n",
       "        lowercase=True, max_df=1.0, max_features=None, min_df=1,\n",
       "        ngram_range=(1, 2), norm='l2', preprocessor=None, smooth_idf=1,\n",
       "        stop_words=None, strip_accents=None, sublinear_tf=1,\n",
       "        token_pattern='(?u)\\\\b\\\\w\\\\w+\\\\b', tokenizer=None, use_idf=1,\n",
       "        vocabulary=['455167 819406', '411707 1266986', '473339', '739365 497479', '1171578 1063907', '47305 652252', '1057288 526298', '647324 374759', '516889 439312', '943146 685057', '329046', '201133 862083', '778749 1216135', '1134165 1205782', '99575 99203', '670748 432126', '520477 546009', '809608 9...909613 1033823', '598948 239905', '680125 587064', '133940 975921', '44243 995362', '957933 308610'])"
      ]
     },
     "execution_count": 22,
     "metadata": {},
     "output_type": "execute_result"
    }
   ],
   "source": [
    "vec2 = TfidfVectorizer(ngram_range=(1, 2), use_idf=1, smooth_idf=1, \n",
    "                           sublinear_tf=1,vocabulary=valid_feature_name)\n",
    "vec2.fit(join_df[column])"
   ]
  },
  {
   "cell_type": "code",
   "execution_count": 24,
   "metadata": {},
   "outputs": [],
   "source": [
    "train_X = vec2.transform(train[column])\n",
    "train_Y = train['class']\n",
    "test_X = vec2.transform(test[column])\n"
   ]
  },
  {
   "cell_type": "code",
   "execution_count": 26,
   "metadata": {},
   "outputs": [],
   "source": [
    "from sklearn import svm\n",
    "clf = svm.LinearSVC(tol=1, class_weight='balanced')\n",
    "clf.fit(train_X,train_Y)\n",
    "pred = clf.predict(test_X)\n"
   ]
  },
  {
   "cell_type": "code",
   "execution_count": 28,
   "metadata": {},
   "outputs": [],
   "source": [
    "out_df = pd.DataFrame(index=test.index)\n",
    "out_df['class']=pred\n",
    "out_df.to_csv('baseline2.csv',index=True, header=True)"
   ]
  }
 ],
 "metadata": {
  "kernelspec": {
   "display_name": "Python 3",
   "language": "python",
   "name": "python3"
  },
  "language_info": {
   "codemirror_mode": {
    "name": "ipython",
    "version": 3
   },
   "file_extension": ".py",
   "mimetype": "text/x-python",
   "name": "python",
   "nbconvert_exporter": "python",
   "pygments_lexer": "ipython3",
   "version": "3.6.5"
  }
 },
 "nbformat": 4,
 "nbformat_minor": 2
}
